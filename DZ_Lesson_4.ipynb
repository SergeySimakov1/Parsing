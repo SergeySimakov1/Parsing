{
 "cells": [
  {
   "cell_type": "markdown",
   "id": "bb399908",
   "metadata": {},
   "source": [
    "##### Развернуть у себя на компьютере/виртуальной машине/хостинге MongoDB и реализовать функцию, которая будет добавлять только новые вакансии/продукты в вашу базу."
   ]
  },
  {
   "cell_type": "code",
   "execution_count": 15,
   "id": "b0a18137",
   "metadata": {},
   "outputs": [],
   "source": [
    "from pprint import pprint\n",
    "import requests\n",
    "import json\n",
    "\n",
    "from pymongo import MongoClient\n",
    "from pymongo.errors import DuplicateKeyError "
   ]
  },
  {
   "cell_type": "code",
   "execution_count": 16,
   "id": "2ba20378",
   "metadata": {},
   "outputs": [
    {
     "data": {
      "text/plain": [
       "MongoClient(host=['localhost:27017'], document_class=dict, tz_aware=False, connect=True)"
      ]
     },
     "execution_count": 16,
     "metadata": {},
     "output_type": "execute_result"
    }
   ],
   "source": [
    "# подключаемся к клиенту Mongo на локальной машине\n",
    "client = MongoClient()\n",
    "\n",
    "client"
   ]
  },
  {
   "cell_type": "code",
   "execution_count": 17,
   "id": "c777beea",
   "metadata": {},
   "outputs": [
    {
     "data": {
      "text/plain": [
       "Database(MongoClient(host=['localhost:27017'], document_class=dict, tz_aware=False, connect=True), 'vacancies')"
      ]
     },
     "execution_count": 17,
     "metadata": {},
     "output_type": "execute_result"
    }
   ],
   "source": [
    "# cоздание датабазы vacancies\n",
    "\n",
    "db = client['vacancies']\n",
    "db"
   ]
  },
  {
   "cell_type": "code",
   "execution_count": 18,
   "id": "2eac0342",
   "metadata": {},
   "outputs": [
    {
     "data": {
      "text/plain": [
       "[{'Старший дата-инженер / Senior Data Engineer': {'salary': 'от 270 000 руб.',\n",
       "   'link': 'https://hh.ru/vacancy/72161518?query=data+engineer',\n",
       "   'site': 'hh.ru'}},\n",
       " {'Дата-инженер / Data Engineer': {'salary': 'от 130 000 руб.',\n",
       "   'link': 'https://hh.ru/vacancy/71236005?query=data+engineer',\n",
       "   'site': 'hh.ru'}},\n",
       " {'Middle/Senior Data Engineer в Sber AI Lab': {'salary': 'ЗП не указана',\n",
       "   'link': 'https://hh.ru/vacancy/73471713?query=data+engineer',\n",
       "   'site': 'hh.ru'}}]"
      ]
     },
     "execution_count": 18,
     "metadata": {},
     "output_type": "execute_result"
    }
   ],
   "source": [
    "# импортируем из json файла список вакансий, которые получили на прошлом задании и сохранили в файл\n",
    "\n",
    "with open('output3.json', 'r', encoding = 'utf-8') as f:\n",
    "    vacancy_list = json.load(f)\n",
    "    \n",
    "# вывод для примера 3 первых вакансий\n",
    "vacancy_list[:3]"
   ]
  },
  {
   "cell_type": "code",
   "execution_count": 19,
   "id": "5bb31a38",
   "metadata": {},
   "outputs": [
    {
     "data": {
      "text/plain": [
       "Collection(Database(MongoClient(host=['localhost:27017'], document_class=dict, tz_aware=False, connect=True), 'vacancies'), 'vacancies')"
      ]
     },
     "execution_count": 19,
     "metadata": {},
     "output_type": "execute_result"
    }
   ],
   "source": [
    "# создадим коллекию vacancies в нашей базе данных vacancies и сохраним в переменную vacancies_collection \n",
    "\n",
    "vacancies_collection = db.vacancies\n",
    "vacancies_collection"
   ]
  },
  {
   "cell_type": "code",
   "execution_count": 20,
   "id": "2af378cd",
   "metadata": {},
   "outputs": [],
   "source": [
    "# создадим функцию добавления вакансий в нашу коллекцию вакансий в базе данных\n",
    "\n",
    "def add_vacancies_in_vacancies_collection(vacancy_list):\n",
    "    \n",
    "    # уникальным идентификатором вакансии будем считать ссылку (название вакансии не всегда оригинальное)\n",
    "    # создадим список ссылок наших вакансий в коллекции\n",
    "    list_links = []\n",
    "    for doc in vacancies_collection.find():\n",
    "        list_links.append(doc['link'])\n",
    "    \n",
    "    # проходим циклом по каждой вакансии и формируем документ для записи в коллекцию\n",
    "    for vacancy in vacancy_list:\n",
    "       \n",
    "        # название вакансии\n",
    "        title = list(vacancy.keys())[0]\n",
    "        \n",
    "        # создаем документ с ключом 'title' и значением - название вакансии\n",
    "        document = {'title': title}\n",
    "     \n",
    "        # проходим циклом по остальным атрибутам вакансии и записываем их значения в соответсвующую графу\n",
    "        for key in vacancy[title].keys():\n",
    "            \n",
    "            document[key] = vacancy[title][key]\n",
    "        \n",
    "        # обновляем наш документ в коллекции, если ссылка от него в списке ссылок наших вакансий list_links\n",
    "        # иначе добавляем новый документ в коллекцию\n",
    "        if document['link'] in list_links:\n",
    "            vacancies_collection.replace_one({'link': document['link']}, document)\n",
    "        else:\n",
    "            vacancies_collection.insert_one(document)"
   ]
  },
  {
   "cell_type": "code",
   "execution_count": 21,
   "id": "5c5a0098",
   "metadata": {},
   "outputs": [],
   "source": [
    "# и запускаем функцию для добавления данных в коллекцию\n",
    "\n",
    "add_vacancies_in_vacancies_collection(vacancy_list)"
   ]
  },
  {
   "cell_type": "code",
   "execution_count": 22,
   "id": "ca5d254c",
   "metadata": {},
   "outputs": [
    {
     "data": {
      "text/plain": [
       "500"
      ]
     },
     "execution_count": 22,
     "metadata": {},
     "output_type": "execute_result"
    }
   ],
   "source": [
    "# количество записей коллекции\n",
    "# если запустить функцию еще раз, то данные в коллекцие просто перезапишутся, так как ссылки на вакансии те же\n",
    "\n",
    "len(list(vacancies_collection.find()))"
   ]
  },
  {
   "cell_type": "code",
   "execution_count": 23,
   "id": "69da0259",
   "metadata": {},
   "outputs": [],
   "source": [
    "# создадим список из новых вакансий для проверки нашей функции.\n",
    "# тут для примера создали ссылки вручную, чтобы проверить, что функция вставляет новые значения.\n",
    "\n",
    "new_vacancy = [\n",
    "    \n",
    "    {'Data engineer': {'salary': 'ЗП не указана',\n",
    "   'link': 'https://rabota.ru/vacancy/73471184?query=data+engineer',\n",
    "   'site': 'rabota.ru'}},\n",
    "    \n",
    "    {'Python developer': {'salary': 'ЗП не указана',\n",
    "   'link': 'https://job.ru/vacancy/73468878?query=data+engineer',\n",
    "   'site': 'job.ru'}}\n",
    "    \n",
    "]"
   ]
  },
  {
   "cell_type": "code",
   "execution_count": 24,
   "id": "86271ada",
   "metadata": {},
   "outputs": [],
   "source": [
    "# заново запускаем функцию для добавления данных в коллекцию\n",
    "\n",
    "add_vacancies_in_vacancies_collection(new_vacancy)"
   ]
  },
  {
   "cell_type": "code",
   "execution_count": 25,
   "id": "c10bc752",
   "metadata": {},
   "outputs": [
    {
     "data": {
      "text/plain": [
       "502"
      ]
     },
     "execution_count": 25,
     "metadata": {},
     "output_type": "execute_result"
    }
   ],
   "source": [
    "# количество записей коллекции увеличилось на 2, значит новые вакансии добавлены\n",
    "\n",
    "len(list(vacancies_collection.find()))"
   ]
  },
  {
   "cell_type": "code",
   "execution_count": 26,
   "id": "e6798e84",
   "metadata": {},
   "outputs": [
    {
     "data": {
      "text/plain": [
       "[{'_id': ObjectId('63ac842c35781f10645165b3'),\n",
       "  'title': 'Senior DBA / Администратор баз данных',\n",
       "  'salary': 'ЗП не указана',\n",
       "  'link': 'https://hh.ru/vacancy/73541299?query=data+engineer',\n",
       "  'site': 'hh.ru'},\n",
       " {'_id': ObjectId('63ac842c35781f10645165b4'),\n",
       "  'title': 'Data engineer',\n",
       "  'salary': 'ЗП не указана',\n",
       "  'link': 'https://rabota.ru/vacancy/73471184?query=data+engineer',\n",
       "  'site': 'rabota.ru'},\n",
       " {'_id': ObjectId('63ac842c35781f10645165b5'),\n",
       "  'title': 'Python developer',\n",
       "  'salary': 'ЗП не указана',\n",
       "  'link': 'https://job.ru/vacancy/73468878?query=data+engineer',\n",
       "  'site': 'job.ru'}]"
      ]
     },
     "execution_count": 26,
     "metadata": {},
     "output_type": "execute_result"
    }
   ],
   "source": [
    "# выведем последние 3 вакансии из коллекции и посмотрим на наши новые вакансии\n",
    "list(vacancies_collection.find()[499:])"
   ]
  },
  {
   "cell_type": "code",
   "execution_count": 27,
   "id": "978ca1d9",
   "metadata": {},
   "outputs": [],
   "source": [
    "#vacancies_collection.delete_many({})"
   ]
  }
 ],
 "metadata": {
  "kernelspec": {
   "display_name": "Python 3 (ipykernel)",
   "language": "python",
   "name": "python3"
  },
  "language_info": {
   "codemirror_mode": {
    "name": "ipython",
    "version": 3
   },
   "file_extension": ".py",
   "mimetype": "text/x-python",
   "name": "python",
   "nbconvert_exporter": "python",
   "pygments_lexer": "ipython3",
   "version": "3.10.2"
  }
 },
 "nbformat": 4,
 "nbformat_minor": 5
}
