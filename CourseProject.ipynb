{
 "cells": [
  {
   "cell_type": "markdown",
   "id": "1b5ade87",
   "metadata": {},
   "source": [
    "#### Задание\n",
    "\n",
    "1) Собрать информацию о вакансиях на вводимую должность с сайтa [hh.ru](https://hh.ru/?customDomain=1). Приложение должно анализировать несколько страниц сайта.\n",
    "Получившийся список должен содержать в себе:\n",
    "- Наименование вакансии\n",
    "- Предлагаемую зарплату (дополнительно: разносим в три поля: минимальная, максимальная, валюта. Цифры преобразуем к цифрам)\n",
    "- Ссылку на саму вакансию\n",
    "- Сайт, откуда собрана вакансия\n",
    "\n",
    "2) Развернуть у себя на компьютере/виртуальной машине/хостинге MongoDB и реализовать функцию, которая будет добавлять только новые вакансии/продукты в вашу базу."
   ]
  },
  {
   "cell_type": "markdown",
   "id": "cedfdc81",
   "metadata": {},
   "source": [
    "#### Решение"
   ]
  },
  {
   "cell_type": "markdown",
   "id": "7db8ce51",
   "metadata": {},
   "source": [
    "### 1."
   ]
  },
  {
   "cell_type": "code",
   "execution_count": 25,
   "id": "d9f7d8ed",
   "metadata": {},
   "outputs": [],
   "source": [
    "# импортируем необходимые библиотеки\n",
    "\n",
    "import pandas as pd\n",
    "import requests\n",
    "import json\n",
    "from bs4 import BeautifulSoup as bs"
   ]
  },
  {
   "cell_type": "code",
   "execution_count": 26,
   "id": "7efb1f77",
   "metadata": {},
   "outputs": [],
   "source": [
    "# задаем headers\n",
    "headers = {\n",
    "    'User-Agent' : 'Mozilla/5.0 (Windows NT 10.0; Win64; x64) AppleWebKit/537.36 (KHTML, like Gecko) Chrome/108.0.0.0 Safari/537.36'\n",
    "}"
   ]
  },
  {
   "cell_type": "code",
   "execution_count": null,
   "id": "9c860d32",
   "metadata": {},
   "outputs": [],
   "source": [
    "# создаем наш итоговый список с вакансиями    \n",
    "vacancy_list = []\n",
    "\n",
    "# проходим циклом по 10 страницам\n",
    "for i in range(10):\n",
    "    \n",
    "    # Задаем адреса страниц - у нулевой страницы адрес отличается\n",
    "    if i == 0:\n",
    "        url = 'https://hh.ru/vacancies/data-scientist?customDomain=1'\n",
    "    else:\n",
    "        url = f'https://hh.ru/vacancies/data-scientist?customDomain=1&page={i}&hhtmFrom=vacancy_search_catalog'\n",
    "\n",
    "    # парсим страницу целиком\n",
    "    response = requests.get(url, headers = headers)\n",
    "    dom = bs(response.text, 'html.parser')\n",
    "\n",
    "    # создаем список тегов <div> у которых class = 'vacancy-serp-item__layout', что соответсвует блоку одной вакансии (посмотрели в браузере)\n",
    "    tag_div_list = dom.find_all('div', {'class' : ['vacancy-serp-item__layout']})\n",
    "\n",
    "    # проходим циклом по нашему списку вакансий со страницы\n",
    "    for tag_div in tag_div_list:\n",
    "\n",
    "        # задаем словарь с информауией о вакансии\n",
    "        tag_div_dict = {}\n",
    "\n",
    "        # находим тег с вакансией и ссылкой\n",
    "        find_vacancy = tag_div.find('a', {'class' : 'bloko-link'})\n",
    "\n",
    "        # находим значение зарплаты, через try/except, так как не всегда ЗП указана, в случае ошибки, присваиваем значение 'ЗП не указана'\n",
    "        try:\n",
    "            salary_vacancy = tag_div.find('span', {'data-qa' : 'vacancy-serp__vacancy-compensation'}).text.replace('\\u202f', ' ')\n",
    "        except AttributeError:\n",
    "            salary_vacancy = 'ЗП не указана'\n",
    "\n",
    "        # находим из find_vacation ссылку на вакансию\n",
    "        href = find_vacancy['href']\n",
    "\n",
    "        # создаем словарь где ключ - название вакансии, а значения - это ЗП и ссылка на вакансию.\n",
    "        tag_div_dict[find_vacancy.text] = {'salary': salary_vacancy,'link': href, 'site': 'hh.ru'}\n",
    "\n",
    "        # добавляем в наш итоговый список словарь с информацией о вакансии\n",
    "        vacancy_list.append(tag_div_dict)\n"
   ]
  },
  {
   "cell_type": "code",
   "execution_count": null,
   "id": "64a4ea02",
   "metadata": {},
   "outputs": [],
   "source": [
    "vacancy_list[:5]"
   ]
  },
  {
   "cell_type": "code",
   "execution_count": null,
   "id": "4c0ea65a",
   "metadata": {},
   "outputs": [],
   "source": [
    "# Если хотим преобразовать в DataFrame, то изменим структуру в словарь\n",
    "\n",
    "# создаем словарь, нужной структуры\n",
    "dict_for_DF = {'vacancy' : [], 'salary' : [], 'link' : [], 'site': []}\n",
    "\n",
    "# пробегаемся циклом по каждой вакансии из цикла\n",
    "for vacancy in vacancy_list:\n",
    "    \n",
    "    # добавляем в список по ключу 'vacancy' значение - название вакансии\n",
    "    dict_for_DF['vacancy'].append(*list(vacancy.keys()))\n",
    "    \n",
    "    # добавляем в списки по остальным ключам значения, исключая уже первый ключ 'vacancy'\n",
    "    for col in list(dict_for_DF.keys())[1:]:\n",
    "        dict_for_DF[col].append(list(vacancy.values())[0][col])"
   ]
  },
  {
   "cell_type": "code",
   "execution_count": null,
   "id": "1f9fee57",
   "metadata": {},
   "outputs": [],
   "source": [
    "# теперь преобразуем в DataFrame\n",
    "\n",
    "df = pd.DataFrame(dict_for_DF)\n",
    "df.head(10)"
   ]
  },
  {
   "cell_type": "code",
   "execution_count": null,
   "id": "a6e2ab03",
   "metadata": {},
   "outputs": [],
   "source": [
    "# сохраним vacancy_list в файл *.json\n",
    "\n",
    "with open('output.json', 'w', encoding = 'utf-8') as f:\n",
    "    json.dump(vacancy_list, f)"
   ]
  },
  {
   "cell_type": "code",
   "execution_count": null,
   "id": "b3e1369d",
   "metadata": {},
   "outputs": [],
   "source": [
    "# также сохраним DataFrame в файл *.csv\n",
    "\n",
    "df.to_csv('output.csv', encoding='utf-8-sig')"
   ]
  },
  {
   "cell_type": "markdown",
   "id": "bdb48238",
   "metadata": {},
   "source": [
    "### 2."
   ]
  },
  {
   "cell_type": "code",
   "execution_count": null,
   "id": "69e6798f",
   "metadata": {},
   "outputs": [],
   "source": [
    "from pprint import pprint\n",
    "\n",
    "from pymongo import MongoClient\n",
    "from pymongo.errors import DuplicateKeyError "
   ]
  },
  {
   "cell_type": "code",
   "execution_count": null,
   "id": "6cd42a8f",
   "metadata": {},
   "outputs": [],
   "source": [
    "# подключаемся к клиенту Mongo на локальной машине\n",
    "client = MongoClient()\n",
    "\n",
    "client"
   ]
  },
  {
   "cell_type": "code",
   "execution_count": null,
   "id": "852e90be",
   "metadata": {},
   "outputs": [],
   "source": [
    "# cоздание датабазы vacancies\n",
    "\n",
    "db = client['vacancies']\n",
    "db"
   ]
  },
  {
   "cell_type": "code",
   "execution_count": null,
   "id": "7e7f9b81",
   "metadata": {},
   "outputs": [],
   "source": [
    "# импортируем из json файла список вакансий, которые получили на прошлом задании и сохранили в файл\n",
    "\n",
    "with open('output.json', 'r', encoding = 'utf-8') as f:\n",
    "    vacancy_list = json.load(f)\n",
    "    \n",
    "# вывод для примера 3 первых вакансий\n",
    "vacancy_list[:3]"
   ]
  },
  {
   "cell_type": "code",
   "execution_count": null,
   "id": "6f485196",
   "metadata": {},
   "outputs": [],
   "source": [
    "# создадим коллекию vacancies в нашей базе данных vacancies и сохраним в переменную vacancies_collection \n",
    "\n",
    "vacancies_collection = db.vacancies\n",
    "vacancies_collection"
   ]
  },
  {
   "cell_type": "code",
   "execution_count": null,
   "id": "1c686ec3",
   "metadata": {},
   "outputs": [],
   "source": [
    "# создадим функцию добавления вакансий в нашу коллекцию вакансий в базе данных\n",
    "\n",
    "def add_vacancies_in_vacancies_collection(vacancy_list):\n",
    "    \n",
    "    # уникальным идентификатором вакансии будем считать ссылку (название вакансии не всегда оригинальное)\n",
    "    # создадим список ссылок наших вакансий в коллекции\n",
    "    list_links = []\n",
    "    for doc in vacancies_collection.find():\n",
    "        list_links.append(doc['link'])\n",
    "    \n",
    "    # проходим циклом по каждой вакансии и формируем документ для записи в коллекцию\n",
    "    for vacancy in vacancy_list:\n",
    "       \n",
    "        # название вакансии\n",
    "        title = list(vacancy.keys())[0]\n",
    "        \n",
    "        # создаем документ с ключом 'title' и значением - название вакансии\n",
    "        document = {'title': title}\n",
    "     \n",
    "        # проходим циклом по остальным атрибутам вакансии и записываем их значения в соответсвующую графу\n",
    "        for key in vacancy[title].keys():\n",
    "            \n",
    "            document[key] = vacancy[title][key]\n",
    "        \n",
    "        # обновляем наш документ в коллекции, если ссылка от него в списке ссылок наших вакансий list_links\n",
    "        # иначе добавляем новый документ в коллекцию\n",
    "        if document['link'] in list_links:\n",
    "            vacancies_collection.replace_one({'link': document['link']}, document)\n",
    "        else:\n",
    "            vacancies_collection.insert_one(document)"
   ]
  },
  {
   "cell_type": "code",
   "execution_count": null,
   "id": "e30b9a9e",
   "metadata": {},
   "outputs": [],
   "source": [
    "# и запускаем функцию для добавления данных в коллекцию\n",
    "\n",
    "add_vacancies_in_vacancies_collection(vacancy_list)"
   ]
  },
  {
   "cell_type": "code",
   "execution_count": null,
   "id": "4f42a3df",
   "metadata": {},
   "outputs": [],
   "source": [
    "# количество записей коллекции\n",
    "# если запустить функцию еще раз, то данные в коллекцие просто перезапишутся, так как ссылки на вакансии те же\n",
    "\n",
    "len(list(vacancies_collection.find()))"
   ]
  },
  {
   "cell_type": "code",
   "execution_count": null,
   "id": "20812c9a",
   "metadata": {},
   "outputs": [],
   "source": [
    "# выведем первые 3 вакансии из коллекции\n",
    "list(vacancies_collection.find()[:3])"
   ]
  },
  {
   "cell_type": "code",
   "execution_count": null,
   "id": "7e59050f",
   "metadata": {
    "scrolled": true
   },
   "outputs": [],
   "source": [
    "#vacancies_collection.delete_many({})"
   ]
  }
 ],
 "metadata": {
  "kernelspec": {
   "display_name": "Python 3 (ipykernel)",
   "language": "python",
   "name": "python3"
  },
  "language_info": {
   "codemirror_mode": {
    "name": "ipython",
    "version": 3
   },
   "file_extension": ".py",
   "mimetype": "text/x-python",
   "name": "python",
   "nbconvert_exporter": "python",
   "pygments_lexer": "ipython3",
   "version": "3.10.2"
  }
 },
 "nbformat": 4,
 "nbformat_minor": 5
}
